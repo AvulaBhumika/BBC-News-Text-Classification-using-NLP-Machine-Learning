{
 "cells": [
  {
   "cell_type": "code",
   "execution_count": 7,
   "id": "fa0acbd8-7608-4889-83e1-4289fee386f7",
   "metadata": {},
   "outputs": [
    {
     "name": "stdout",
     "output_type": "stream",
     "text": [
      "showing info https://raw.githubusercontent.com/nltk/nltk_data/gh-pages/index.xml\n"
     ]
    },
    {
     "data": {
      "text/plain": [
       "True"
      ]
     },
     "execution_count": 7,
     "metadata": {},
     "output_type": "execute_result"
    }
   ],
   "source": [
    "import nltk\n",
    "nltk.download()"
   ]
  },
  {
   "cell_type": "code",
   "execution_count": 1,
   "id": "c661d811-956e-4fdb-9f45-3cceb8eabf77",
   "metadata": {},
   "outputs": [
    {
     "name": "stderr",
     "output_type": "stream",
     "text": [
      "[nltk_data] Downloading package punkt to\n",
      "[nltk_data]     C:\\Users\\Bhumi\\AppData\\Roaming\\nltk_data...\n",
      "[nltk_data]   Package punkt is already up-to-date!\n",
      "[nltk_data] Downloading package stopwords to\n",
      "[nltk_data]     C:\\Users\\Bhumi\\AppData\\Roaming\\nltk_data...\n",
      "[nltk_data]   Package stopwords is already up-to-date!\n",
      "[nltk_data] Downloading package averaged_perceptron_tagger to\n",
      "[nltk_data]     C:\\Users\\Bhumi\\AppData\\Roaming\\nltk_data...\n",
      "[nltk_data]   Package averaged_perceptron_tagger is already up-to-\n",
      "[nltk_data]       date!\n",
      "[nltk_data] Downloading package maxent_ne_chunker to\n",
      "[nltk_data]     C:\\Users\\Bhumi\\AppData\\Roaming\\nltk_data...\n",
      "[nltk_data]   Package maxent_ne_chunker is already up-to-date!\n",
      "[nltk_data] Downloading package words to\n",
      "[nltk_data]     C:\\Users\\Bhumi\\AppData\\Roaming\\nltk_data...\n",
      "[nltk_data]   Package words is already up-to-date!\n",
      "[nltk_data] Downloading package wordnet to\n",
      "[nltk_data]     C:\\Users\\Bhumi\\AppData\\Roaming\\nltk_data...\n",
      "[nltk_data]   Package wordnet is already up-to-date!\n"
     ]
    },
    {
     "name": "stdout",
     "output_type": "stream",
     "text": [
      "\n",
      "🧹 Cleaned Tokens:\n",
      " ['apple', 'inc', 'planning', 'launch', 'new', 'iphone', 'september', '2025', 'california', 'tim', 'cook', 'announced', 'new', 'features', 'including', 'aipowered', 'camera', 'better', 'battery', 'life']\n",
      "\n",
      "🌱 Stemming:\n",
      " ['appl', 'inc', 'plan', 'launch', 'new', 'iphon', 'septemb', '2025', 'california', 'tim', 'cook', 'announc', 'new', 'featur', 'includ', 'aipow', 'camera', 'better', 'batteri', 'life']\n",
      "\n",
      "🔤 POS Tags:\n",
      " [('apple', 'NN'), ('inc', 'NN'), ('planning', 'VBG'), ('launch', 'JJ'), ('new', 'JJ'), ('iphone', 'NN'), ('september', 'NN'), ('2025', 'CD'), ('california', 'NN'), ('tim', 'NN'), ('cook', 'NN'), ('announced', 'VBD'), ('new', 'JJ'), ('features', 'NNS'), ('including', 'VBG'), ('aipowered', 'VBD'), ('camera', 'NN'), ('better', 'RBR'), ('battery', 'NN'), ('life', 'NN')]\n",
      "\n",
      "🏷️ Named Entity Recognition (IOB format):\n",
      " [('apple', 'NN', 'O'), ('inc', 'NN', 'O'), ('planning', 'VBG', 'O'), ('launch', 'JJ', 'O'), ('new', 'JJ', 'O'), ('iphone', 'NN', 'O'), ('september', 'NN', 'O'), ('2025', 'CD', 'O'), ('california', 'NN', 'O'), ('tim', 'NN', 'O'), ('cook', 'NN', 'O'), ('announced', 'VBD', 'O'), ('new', 'JJ', 'O'), ('features', 'NNS', 'O'), ('including', 'VBG', 'O'), ('aipowered', 'VBD', 'O'), ('camera', 'NN', 'O'), ('better', 'RBR', 'O'), ('battery', 'NN', 'O'), ('life', 'NN', 'O')]\n",
      "\n",
      "📐 TF-IDF Vocabulary:\n",
      " {'apple': 3, 'inc': 10, 'planning': 16, 'launch': 13, 'new': 15, 'iphone': 12, 'september': 17, '2025': 0, 'california': 6, 'tim': 18, 'cook': 8, 'announced': 2, 'features': 9, 'including': 11, 'aipowered': 1, 'camera': 7, 'better': 5, 'battery': 4, 'life': 14}\n",
      "\n",
      "📊 Word2Vec Similar Words to 'iphone':\n",
      " [('better', 0.20481567084789276), ('launch', 0.18339458107948303), ('battery', 0.1694524586200714), ('september', 0.1125282421708107), ('tim', 0.08995037525892258), ('california', 0.08865617960691452), ('life', 0.07399575412273407), ('cook', 0.06110018119215965), ('camera', -0.006365287583321333), ('features', -0.014114654622972012)]\n"
     ]
    }
   ],
   "source": [
    "import nltk\n",
    "import string\n",
    "import re\n",
    "from nltk.tokenize import word_tokenize, sent_tokenize\n",
    "from nltk.corpus import stopwords\n",
    "from nltk.stem import PorterStemmer\n",
    "from nltk import pos_tag, ne_chunk\n",
    "from nltk.chunk import tree2conlltags\n",
    "from nltk.stem import WordNetLemmatizer\n",
    "from sklearn.feature_extraction.text import TfidfVectorizer\n",
    "from gensim.models import Word2Vec\n",
    "from warnings import filterwarnings\n",
    "filterwarnings('ignore')\n",
    "\n",
    "nltk.download('punkt')\n",
    "nltk.download('stopwords')\n",
    "nltk.download('averaged_perceptron_tagger')\n",
    "nltk.download('maxent_ne_chunker')\n",
    "nltk.download('words')\n",
    "nltk.download('wordnet')\n",
    "\n",
    "paragraph = \"\"\"\n",
    "Apple Inc. is planning to launch a new iPhone in September 2025 in California. \n",
    "Tim Cook announced the new features including an AI-powered camera and better battery life.\n",
    "\"\"\"\n",
    "\n",
    "def clean_and_tokenize(text):\n",
    "    text = re.sub(r'\\s+', ' ', text)\n",
    "    text = text.translate(str.maketrans('', '', string.punctuation))\n",
    "    tokens = word_tokenize(text.lower())\n",
    "    return [word for word in tokens if word not in stopwords.words('english')]\n",
    "\n",
    "tokens = clean_and_tokenize(paragraph)\n",
    "print(\"\\n🧹 Cleaned Tokens:\\n\", tokens)\n",
    "\n",
    "stemmer = PorterStemmer()\n",
    "stems = [stemmer.stem(token) for token in tokens]\n",
    "print(\"\\n🌱 Stemming:\\n\", stems)\n",
    "\n",
    "pos_tags = pos_tag(tokens)\n",
    "print(\"\\n🔤 POS Tags:\\n\", pos_tags)\n",
    "\n",
    "ner_tree = ne_chunk(pos_tags)\n",
    "ner_tags = tree2conlltags(ner_tree)\n",
    "print(\"\\n🏷️ Named Entity Recognition (IOB format):\\n\", ner_tags)\n",
    "\n",
    "vectorizer = TfidfVectorizer()\n",
    "tfidf_matrix = vectorizer.fit_transform([\" \".join(tokens)])\n",
    "print(\"\\n📐 TF-IDF Vocabulary:\\n\", vectorizer.vocabulary_)\n",
    "\n",
    "# 6. Word2Vec (Optional but powerful)\n",
    "model = Word2Vec([tokens], vector_size=50, window=2, min_count=1, workers=2)\n",
    "print(\"\\n📊 Word2Vec Similar Words to 'iphone':\\n\", model.wv.most_similar('iphone'))\n"
   ]
  },
  {
   "cell_type": "markdown",
   "id": "2589c60f-5253-4fd6-a296-f0f10288ee25",
   "metadata": {},
   "source": [
    "\r\n",
    "\r\n",
    "### 📍 Tuple:\r\n",
    "```python\r\n",
    "('life', 'NN', 'O')\r\n",
    "```\r\n",
    "\r\n",
    "### 💡 What Each Element Means:\r\n",
    "\r\n",
    "| Position | Value  | Meaning |\r\n",
    "|----------|--------|---------|\r\n",
    "| `0`      | `'life'` | The actual **word/token**. |\r\n",
    "| `1`      | `'NN'`   | The **Part-of-Speech (POS) tag** for the word. In this case, `'NN'` = Noun, singular. |\r\n",
    "| `2`      | `'O'`    | The **NER IOB tag**. `'O'` means the word is **not part of any named entity**. |\r\n",
    "\r\n",
    "---\r\n",
    "\r\n",
    "### 🔠 Common POS Tags:\r\n",
    "\r\n",
    "| Tag | Description       |\r\n",
    "|-----|-------------------|\r\n",
    "| NN  | Noun, singular    |\r\n",
    "| NNS | Noun, plural      |\r\n",
    "| VB  | Verb, base form   |\r\n",
    "| VBD | Verb, past tense  |\r\n",
    "| JJ  | Adjective         |\r\n",
    "| RB  | Adverb            |\r\n",
    "\r\n",
    "---\r\n",
    "\r\n",
    "### 🏷️ Common IOB Tags:\r\n",
    "\r\n",
    "| Tag  | Meaning                                   |\r\n",
    "|------|-------------------------------------------|\r\n",
    "| B-LOC | Beginning of a Location entity           |\r\n",
    "| I-LOC | Inside a Location entity                 |\r\n",
    "| B-PER | Beginning of a Person entity             |\r\n",
    "| I-PER | Inside a Person entity                   |\r\n",
    "| B-ORG | Beginning of an Organization entity      |\r\n",
    "| I-ORG | Inside an Organization entity            |\r\n",
    "| O    | Outside any named entity (non-entity word) |\r\n",
    "\r\n",
    "---\r\n",
    "\r\n",
    "### ✅ Example with Entities:\r\n",
    "\r\n",
    "```python\r\n",
    "[('Apple', 'NNP', 'B-ORG'), \r\n",
    " ('Inc.', 'NNP', 'I-ORG'), \r\n",
    " ('launched', 'VBD', 'O'),\r\n",
    " ('iPhone', 'NNP', 'O')]\r\n",
    "```\r\n",
    "\r\n",
    "- `Apple Inc.` is identified as an **organization**.\r\n",
    "- `iPhone` is **not** recognized as an ence downstream tasks like question answering or summarization?"
   ]
  }
 ],
 "metadata": {
  "kernelspec": {
   "display_name": "Python [conda env:base] *",
   "language": "python",
   "name": "conda-base-py"
  },
  "language_info": {
   "codemirror_mode": {
    "name": "ipython",
    "version": 3
   },
   "file_extension": ".py",
   "mimetype": "text/x-python",
   "name": "python",
   "nbconvert_exporter": "python",
   "pygments_lexer": "ipython3",
   "version": "3.12.7"
  }
 },
 "nbformat": 4,
 "nbformat_minor": 5
}
